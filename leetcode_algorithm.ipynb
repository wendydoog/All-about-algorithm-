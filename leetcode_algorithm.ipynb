{
 "cells": [
  {
   "cell_type": "code",
   "execution_count": 4,
   "metadata": {},
   "outputs": [
    {
     "data": {
      "text/plain": [
       "[0, 1]"
      ]
     },
     "execution_count": 4,
     "metadata": {},
     "output_type": "execute_result"
    }
   ],
   "source": [
    "#two sum\n",
    "nums = [2,7,11,15]\n",
    "target = 9\n",
    "class solution:\n",
    "    def twoSum(nums, target):\n",
    "        h = {}\n",
    "        for i, num in enumerate(nums):\n",
    "            complement = target - num\n",
    "            if complement not in h:\n",
    "                h[num] = i\n",
    "            else:\n",
    "                return [h[complement], i]\n",
    "\n",
    "solution.twoSum(nums = nums,target = target)"
   ]
  },
  {
   "cell_type": "code",
   "execution_count": 11,
   "metadata": {},
   "outputs": [
    {
     "data": {
      "text/plain": [
       "-321"
      ]
     },
     "execution_count": 11,
     "metadata": {},
     "output_type": "execute_result"
    }
   ],
   "source": [
    "#Reverse integer \n",
    "x = -123\n",
    "def reverse(x):\n",
    "    if x >= (2**31 - 1) or (x <= - 2**31): return 0\n",
    "    else:\n",
    "        if x >= 0 : \n",
    "            xrev = int(str(x)[::-1])\n",
    "        else: \n",
    "            xrev = int('-' + str(x)[1:][::-1])\n",
    "    if (xrev >= (2**31 - 1)) or (xrev <= - 2**31) : return 0\n",
    "    else: return xrev\n",
    "reverse(x)            "
   ]
  },
  {
   "cell_type": "code",
   "execution_count": 14,
   "metadata": {},
   "outputs": [
    {
     "data": {
      "text/plain": [
       "3"
      ]
     },
     "execution_count": 14,
     "metadata": {},
     "output_type": "execute_result"
    }
   ],
   "source": [
    "#Best Time to Buy and Sell Stock\n",
    "prices = [7,2,5,1,4,3]\n",
    "def maxProfit(prices):\n",
    "    lowestprice = prices[0]\n",
    "    maxprofit = 0\n",
    "    for p in prices:\n",
    "        if p > lowestprice:\n",
    "            if (p - lowestprice) > maxprofit:\n",
    "                maxprofit = p - lowestprice\n",
    "        elif p < lowestprice:\n",
    "            lowestprice  = p\n",
    "    return maxprofit\n",
    "\n",
    "maxProfit(prices)"
   ]
  },
  {
   "cell_type": "code",
   "execution_count": 40,
   "metadata": {},
   "outputs": [
    {
     "data": {
      "text/plain": [
       "False"
      ]
     },
     "execution_count": 40,
     "metadata": {},
     "output_type": "execute_result"
    }
   ],
   "source": [
    "#Verify an Alien Dictionary\n",
    "#sorted \n",
    "words = ['aaaaa','aaa','aaab']\n",
    "order = 'worldabcefghijkmnpqstuvxyz'\n",
    "\n",
    "def isAlienSorted( words, order):\n",
    "    \n",
    "    index_order = { c: i for i, c in enumerate(order)}\n",
    "    \n",
    "    for i in range(len(words)-1):\n",
    "        word1 = words[i]\n",
    "        word2 = words[i+1]\n",
    "        \n",
    "        for j in range(min(len(word1),len(word2))):\n",
    "            if (word1[j] != word2[j]):\n",
    "                if (index_order[word1[j]] > index_order[word2[j]]):\n",
    "                    return False\n",
    "                else: break\n",
    "            \n",
    "                  \n",
    "        if (word1[j] < word2[j]): continue   \n",
    "        elif (len(word1) > len(word2)): return False\n",
    "        # apple, app    apple > app unsorted\n",
    "        # aaab, aab       aab < ab sorted\n",
    "         \n",
    "        \n",
    "    return True\n",
    "\n",
    "isAlienSorted(words, order)"
   ]
  },
  {
   "cell_type": "code",
   "execution_count": 42,
   "metadata": {},
   "outputs": [
    {
     "data": {
      "text/plain": [
       "6"
      ]
     },
     "execution_count": 42,
     "metadata": {},
     "output_type": "execute_result"
    }
   ],
   "source": [
    "#53. Maximum Subarray\n",
    "#Dynamic Programming (Kadane's algorithm)\n",
    "nums = [-2,1,-3,4,-1,2,1,-5,4]\n",
    "def maxSubArray(nums):\n",
    "    max_sum = 0\n",
    "    for i in range(1,len(nums)):\n",
    "        if nums[i-1] > 0:\n",
    "            nums[i] = nums[i]+nums[i-1]\n",
    "            if max_sum < nums[i]:\n",
    "                max_sum = nums[i]\n",
    "    return max_sum\n",
    "maxSubArray(nums)       "
   ]
  },
  {
   "cell_type": "code",
   "execution_count": 51,
   "metadata": {},
   "outputs": [
    {
     "name": "stdout",
     "output_type": "stream",
     "text": [
      "3\n"
     ]
    }
   ],
   "source": [
    "class Node:\n",
    "    def __init__(self, data, next = None):\n",
    "        self.data = data\n",
    "        self.next = next\n",
    "        \n",
    "class LinkedList:\n",
    "    def __init__(self):  \n",
    "        self.head = None\n",
    "        \n",
    "\n",
    "        \n",
    "##206. Reverse Linkedlist\n",
    "\n",
    "def reverseList(head)\n",
    "\n",
    "\n",
    "\n",
    "\n"
   ]
  },
  {
   "cell_type": "code",
   "execution_count": 52,
   "metadata": {},
   "outputs": [
    {
     "data": {
      "text/plain": [
       "False"
      ]
     },
     "execution_count": 52,
     "metadata": {},
     "output_type": "execute_result"
    }
   ],
   "source": [
    "##20. Valid Parentheses\n",
    "\n",
    "from collections import deque\n",
    "\n",
    "s = '([)]'\n",
    "def isValid(s):\n",
    "    stack = deque()\n",
    "    mapping = {')':'(', '}':'{',']':'['}\n",
    "    \n",
    "    for char in s:\n",
    "        if char in mapping: #if the character is an closing bracket\n",
    "            top_element = stack.pop() if stack else '#'\n",
    "            if mapping[char] != top_element:\n",
    "                return False\n",
    "        else:\n",
    "            stack.append(char)\n",
    "            \n",
    "    return not stack\n",
    "\n",
    "isValid(s)"
   ]
  },
  {
   "cell_type": "code",
   "execution_count": null,
   "metadata": {},
   "outputs": [],
   "source": [
    "##283. Move Zeros\n",
    "nums = [0,1,0,3,12]\n",
    "def moveZeroes(nums)"
   ]
  },
  {
   "cell_type": "code",
   "execution_count": null,
   "metadata": {},
   "outputs": [],
   "source": []
  },
  {
   "cell_type": "code",
   "execution_count": null,
   "metadata": {},
   "outputs": [],
   "source": []
  },
  {
   "cell_type": "code",
   "execution_count": null,
   "metadata": {},
   "outputs": [],
   "source": []
  },
  {
   "cell_type": "code",
   "execution_count": null,
   "metadata": {},
   "outputs": [],
   "source": []
  },
  {
   "cell_type": "code",
   "execution_count": null,
   "metadata": {},
   "outputs": [],
   "source": []
  }
 ],
 "metadata": {
  "kernelspec": {
   "display_name": "Python 3",
   "language": "python",
   "name": "python3"
  },
  "language_info": {
   "codemirror_mode": {
    "name": "ipython",
    "version": 3
   },
   "file_extension": ".py",
   "mimetype": "text/x-python",
   "name": "python",
   "nbconvert_exporter": "python",
   "pygments_lexer": "ipython3",
   "version": "3.8.5"
  }
 },
 "nbformat": 4,
 "nbformat_minor": 4
}
